{
 "cells": [
  {
   "cell_type": "markdown",
   "metadata": {},
   "source": [
    "# Data Types\n",
    "- **string**(text)\n",
    "- **int**()\n",
    "- **float**()\n",
    "- **bool**()\n"
   ]
  },
  {
   "cell_type": "code",
   "execution_count": 2,
   "metadata": {},
   "outputs": [
    {
     "name": "stdout",
     "output_type": "stream",
     "text": [
      "Max\n",
      "8\n",
      "1.14\n",
      "True\n"
     ]
    }
   ],
   "source": [
    "mystring = \"Max\"\n",
    "print(mystring)\n",
    "\n",
    "myint = 8\n",
    "print(myint)\n",
    "\n",
    "myfloat = 1.14\n",
    "print(myfloat)\n",
    "\n",
    "mybool = True\n",
    "print(mybool)"
   ]
  },
  {
   "cell_type": "markdown",
   "metadata": {},
   "source": [
    "# Literal value\n",
    "- \"Hello\" - **string** both \"\" and '',  Case Sensitive\n",
    "- 5 - **int**\n",
    "- 4.5 - **float**\n",
    "- True - **bool** Can be True or False"
   ]
  },
  {
   "cell_type": "markdown",
   "metadata": {},
   "source": [
    "# Variables\n",
    "- Case Sensitive\n",
    "- Created when first assigned, Doesn't need to be declared.\n",
    "- Dynamic Typing, type is refered from assigned, can be re-signed.\n",
    "- Cast Type with: str(), int(), float(), bool()\n",
    "- Set type with: Type()\n",
    "- use del() to delete variables"
   ]
  },
  {
   "cell_type": "code",
   "execution_count": 5,
   "metadata": {},
   "outputs": [
    {
     "name": "stdout",
     "output_type": "stream",
     "text": [
      "58\n",
      "<class 'str'>\n",
      "<class 'int'>\n"
     ]
    },
    {
     "ename": "NameError",
     "evalue": "name 'mynumber2' is not defined",
     "output_type": "error",
     "traceback": [
      "\u001b[1;31m---------------------------------------------------------------------------\u001b[0m",
      "\u001b[1;31mNameError\u001b[0m                                 Traceback (most recent call last)",
      "Cell \u001b[1;32mIn[5], line 9\u001b[0m\n\u001b[0;32m      6\u001b[0m \u001b[39mprint\u001b[39m(\u001b[39mtype\u001b[39m(mynumber2))\n\u001b[0;32m      8\u001b[0m \u001b[39mdel\u001b[39;00m(mynumber2)\n\u001b[1;32m----> 9\u001b[0m \u001b[39mprint\u001b[39m(mynumber2)\n",
      "\u001b[1;31mNameError\u001b[0m: name 'mynumber2' is not defined"
     ]
    }
   ],
   "source": [
    "mynumber = \"56\"\n",
    "mynumber2 = int(mynumber)\n",
    "print(mynumber2 + 2)\n",
    "\n",
    "print(type(mynumber))\n",
    "print(type(mynumber2))\n",
    "\n",
    "del(mynumber2)"
   ]
  }
 ],
 "metadata": {
  "kernelspec": {
   "display_name": "Python 3",
   "language": "python",
   "name": "python3"
  },
  "language_info": {
   "codemirror_mode": {
    "name": "ipython",
    "version": 3
   },
   "file_extension": ".py",
   "mimetype": "text/x-python",
   "name": "python",
   "nbconvert_exporter": "python",
   "pygments_lexer": "ipython3",
   "version": "3.11.5"
  },
  "orig_nbformat": 4
 },
 "nbformat": 4,
 "nbformat_minor": 2
}
