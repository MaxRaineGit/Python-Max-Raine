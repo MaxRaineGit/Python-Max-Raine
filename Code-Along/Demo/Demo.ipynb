{
 "cells": [
  {
   "cell_type": "markdown",
   "metadata": {},
   "source": [
    "# Data Types\n",
    "- **string**(text)\n",
    "- **int**()\n",
    "- **float**()\n",
    "- **bool**()\n"
   ]
  },
  {
   "cell_type": "code",
   "execution_count": 2,
   "metadata": {},
   "outputs": [
    {
     "name": "stdout",
     "output_type": "stream",
     "text": [
      "Max\n",
      "8\n",
      "1.14\n",
      "True\n"
     ]
    }
   ],
   "source": [
    "mystring = \"Max\"\n",
    "print(mystring)\n",
    "\n",
    "myint = 8\n",
    "print(myint)\n",
    "\n",
    "myfloat = 1.14\n",
    "print(myfloat)\n",
    "\n",
    "mybool = True\n",
    "print(mybool)"
   ]
  }
 ],
 "metadata": {
  "kernelspec": {
   "display_name": "Python 3",
   "language": "python",
   "name": "python3"
  },
  "language_info": {
   "codemirror_mode": {
    "name": "ipython",
    "version": 3
   },
   "file_extension": ".py",
   "mimetype": "text/x-python",
   "name": "python",
   "nbconvert_exporter": "python",
   "pygments_lexer": "ipython3",
   "version": "3.11.5"
  },
  "orig_nbformat": 4
 },
 "nbformat": 4,
 "nbformat_minor": 2
}
